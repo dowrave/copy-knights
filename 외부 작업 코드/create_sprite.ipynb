{
 "cells": [
  {
   "cell_type": "code",
   "execution_count": 1,
   "metadata": {},
   "outputs": [
    {
     "name": "stdout",
     "output_type": "stream",
     "text": [
      "Sprite saved as square_sprite.png\n"
     ]
    }
   ],
   "source": [
    "from PIL import Image\n",
    "\n",
    "def create_square_sprite(size=32, color=(255, 255, 255, 255), filename=\"square_sprite.png\"):\n",
    "    # 새 이미지 생성\n",
    "    image = Image.new(\"RGBA\", (size, size), color)\n",
    "    \n",
    "    # 이미지 저장\n",
    "    image.save(filename)\n",
    "    print(f\"Sprite saved as {filename}\")\n",
    "\n",
    "# 32x32 크기의 흰색 사각형 스프라이트 생성\n",
    "create_square_sprite()\n"
   ]
  },
  {
   "cell_type": "code",
   "execution_count": null,
   "metadata": {},
   "outputs": [],
   "source": [
    "from PIL import Image\n",
    "\n",
    "def create_square_sprite(size=32, color=(255, 255, 255, 255), filename=\"square_sprite.png\"):\n",
    "    # 새 이미지 생성\n",
    "    image = Image.new(\"RGBA\", (size, size), color)\n",
    "    \n",
    "    # 이미지 저장\n",
    "    image.save(filename)\n",
    "    print(f\"Sprite saved as {filename}\")\n",
    "\n",
    "# 32x32 크기의 흰색 사각형 스프라이트 생성\n",
    "create_square_sprite()\n"
   ]
  },
  {
   "cell_type": "code",
   "execution_count": 1,
   "metadata": {},
   "outputs": [],
   "source": [
    "from PIL import Image, ImageDraw\n",
    "\n",
    "def create_circle_sprite(size=128, line_width=4):\n",
    "    image = Image.new('RGBA', (size, size), (0, 0, 0, 0))\n",
    "    draw = ImageDraw.Draw(image)\n",
    "    draw.ellipse([line_width, line_width, size-line_width, size-line_width], outline=(255, 255, 255, 255), width=line_width)\n",
    "    image.save('circle_sprite.png')\n",
    "\n",
    "def create_arrow_sprite(size=128, line_width=4):\n",
    "    image = Image.new('RGBA', (size, size), (0, 0, 0, 0))\n",
    "    draw = ImageDraw.Draw(image)\n",
    "    arrow_points = [\n",
    "        (size//2, line_width),\n",
    "        (size-line_width, size//2),\n",
    "        (3*size//4, size//2),\n",
    "        (3*size//4, size-line_width),\n",
    "        (size//4, size-line_width),\n",
    "        (size//4, size//2),\n",
    "        (line_width, size//2)\n",
    "    ]\n",
    "    draw.polygon(arrow_points, fill=(255, 255, 255, 255))\n",
    "    image.save('arrow_sprite.png')\n",
    "\n",
    "create_circle_sprite()\n",
    "create_arrow_sprite()"
   ]
  },
  {
   "cell_type": "code",
   "execution_count": 98,
   "metadata": {},
   "outputs": [],
   "source": [
    "from PIL import Image, ImageDraw, ImageOps\n",
    "import math\n",
    "\n",
    "def create_direction_sprite(size=512, line_width = 6):\n",
    "    \n",
    "    # 이미지 크기를 더 크게 설정\n",
    "    \"\"\"\n",
    "    draw 변수들은 image 위에 그리는 역할임\n",
    "    이미지들의 합성은 image 변수들로 이뤄진다.\n",
    "    \"\"\"\n",
    "    image = Image.new('RGBA', (size, size), (0, 0, 0, 0))\n",
    "    draw = ImageDraw.Draw(image)\n",
    "    \n",
    "    center = size // 2\n",
    "    inner_radius = size // 4 - line_width\n",
    "    outer_radius = int(inner_radius * 1.1)  # r 값, 원래 원보다 20% 크게\n",
    "    d = int(outer_radius * math.sqrt(2))  # 대각선 길이\n",
    "    \n",
    "    # 원 그리기\n",
    "    draw.ellipse([center-inner_radius, center-inner_radius, \n",
    "                  center+inner_radius, center+inner_radius], \n",
    "                 outline=(255, 255, 255, 255), width=line_width)\n",
    "\n",
    "    # 화살표 그리기 (오른쪽 방향)\n",
    "    arrow_color = (250, 195, 45, 255)  # 주황색 (알파 채널 추가)\n",
    "    \n",
    "    # 마스크 생성\n",
    "    mask = Image.new('L', (size, size), 0) # 그레이스케일\n",
    "    mask_draw = ImageDraw.Draw(mask)\n",
    "    mask_draw.ellipse([center-outer_radius, center-outer_radius, \n",
    "                        center+outer_radius, center+outer_radius], \n",
    "                        fill=255) # 원호를 검은색으로 구현\n",
    "\n",
    "    # 마스크 반전\n",
    "    mask = ImageOps.invert(mask)\n",
    "\n",
    "    # 화살표 이미지 생성\n",
    "    arrow_image = Image.new('RGBA', (size, size), (0, 0, 0, 0))\n",
    "    arrow_draw = ImageDraw.Draw(arrow_image)\n",
    "\n",
    "\n",
    "    # 직사각형의 왼, 위, 오른, 아래쪽 모서리의 x, y, x, y 좌표\n",
    "    arrow_points = [\n",
    "        (size * 0.65, center - d // 1.5 ),  # 왼쪽 상단\n",
    "        (size * 0.9, center),                  # 오른쪽 중앙\n",
    "        (size * 0.65, center + d // 1.5 )   # 왼쪽 하단\n",
    "    ]\n",
    "    arrow_draw.polygon(arrow_points, fill=arrow_color)\n",
    "\n",
    "    arrow_image.save(\"arrow_sprite.png\")\n",
    "\n",
    "    # 마스크 적용\n",
    "    \"\"\"\n",
    "    2개의 소스 이미지를 mask로 합성을 제어함\n",
    "    mask의 픽셀이 0이면 2번째 이미지를, 255면 1번째 이미지의 픽셀을 사용함\n",
    "    중간값들은 비율에 따라 섞음\n",
    "    \"\"\"\n",
    "    arrow_image = Image.composite(arrow_image, \n",
    "                                  Image.new('RGBA',(size, size), (0, 0, 0, 0)), \n",
    "                                  mask\n",
    "                                  )\n",
    "    \n",
    "    # 최종 이미지에 화살표 합성\n",
    "    image = Image.alpha_composite(image, arrow_image)\n",
    "\n",
    "    image = image.transpose(Image.FLIP_LEFT_RIGHT)\n",
    "\n",
    "    image.save('direction_sprite.png')\n",
    "\n",
    "create_direction_sprite()"
   ]
  },
  {
   "cell_type": "code",
   "execution_count": 71,
   "metadata": {},
   "outputs": [],
   "source": []
  },
  {
   "cell_type": "code",
   "execution_count": null,
   "metadata": {},
   "outputs": [],
   "source": []
  }
 ],
 "metadata": {
  "kernelspec": {
   "display_name": "venv",
   "language": "python",
   "name": "python3"
  },
  "language_info": {
   "codemirror_mode": {
    "name": "ipython",
    "version": 3
   },
   "file_extension": ".py",
   "mimetype": "text/x-python",
   "name": "python",
   "nbconvert_exporter": "python",
   "pygments_lexer": "ipython3",
   "version": "3.10.9"
  }
 },
 "nbformat": 4,
 "nbformat_minor": 2
}
