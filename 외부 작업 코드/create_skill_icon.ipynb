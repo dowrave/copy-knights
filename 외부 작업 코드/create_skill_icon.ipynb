{
 "cells": [
  {
   "cell_type": "code",
   "execution_count": 2,
   "metadata": {},
   "outputs": [
    {
     "name": "stdout",
     "output_type": "stream",
     "text": [
      "스프라이트가 생성되어 'yellow_diamond_sprite.png'로 저장되었습니다.\n"
     ]
    }
   ],
   "source": [
    "from PIL import Image, ImageDraw\n",
    "\n",
    "def create_diamond_sprite(size=128, bg_color=(255, 255, 255, 0), diamond_color=(218, 165, 32), border_color=(0, 0, 0), border_width=3):\n",
    "    # 새 이미지 생성 (투명 배경)\n",
    "    image = Image.new('RGBA', (size, size), bg_color)\n",
    "    draw = ImageDraw.Draw(image)\n",
    "\n",
    "    # 마름모 꼭지점 계산\n",
    "    points = [\n",
    "        (size // 2, 0),  # 상단\n",
    "        (size, size // 2),  # 우측\n",
    "        (size // 2, size),  # 하단\n",
    "        (0, size // 2)  # 좌측\n",
    "    ]\n",
    "\n",
    "    # 마름모 그리기 (채우기)\n",
    "    draw.polygon(points, fill=diamond_color)\n",
    "\n",
    "    # 마름모 테두리 그리기\n",
    "    for i in range(border_width):\n",
    "        draw.line(points + [points[0]], fill=border_color, width=3)\n",
    "        points = [\n",
    "            (p[0] + (1 if p[0] < size // 2 else -1), \n",
    "             p[1] + (1 if p[1] < size // 2 else -1))\n",
    "            for p in points\n",
    "        ]\n",
    "\n",
    "    return image\n",
    "\n",
    "# 스프라이트 생성\n",
    "sprite = create_diamond_sprite(size=128, diamond_color=(218, 165, 32))  # 골든로드 색상\n",
    "\n",
    "# 이미지 저장\n",
    "sprite.save('yellow_diamond_sprite.png')\n",
    "\n",
    "print(\"스프라이트가 생성되어 'yellow_diamond_sprite.png'로 저장되었습니다.\")\n"
   ]
  },
  {
   "cell_type": "code",
   "execution_count": null,
   "metadata": {},
   "outputs": [],
   "source": []
  }
 ],
 "metadata": {
  "kernelspec": {
   "display_name": "Python 3",
   "language": "python",
   "name": "python3"
  },
  "language_info": {
   "codemirror_mode": {
    "name": "ipython",
    "version": 3
   },
   "file_extension": ".py",
   "mimetype": "text/x-python",
   "name": "python",
   "nbconvert_exporter": "python",
   "pygments_lexer": "ipython3",
   "version": "3.10.8"
  }
 },
 "nbformat": 4,
 "nbformat_minor": 2
}
